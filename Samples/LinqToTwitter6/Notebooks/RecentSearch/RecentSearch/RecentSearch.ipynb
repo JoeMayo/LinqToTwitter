{
  "cells": [
    {
      "cell_type": "markdown",
      "metadata": {},
      "source": [
        "# Using LINQ to Twitter in Visual Studio Notebooks\n",
        "\n",
        "This demonstrates how to perform a recent search."
      ]
    },
    {
      "cell_type": "code",
      "execution_count": 1,
      "metadata": {
        "dotnet_interactive": {
          "language": "csharp"
        }
      },
      "source": [
        "#r \"nuget: linqtotwitter, 6.15.0\""
      ],
      "outputs": [
        {
          "output_type": "execute_result",
          "data": {
            "text/html": "<div><div></div><div></div><div><strong>Installed Packages</strong><ul><li><span>linqtotwitter, 6.15.0</span></li></ul></div></div>"
          },
          "execution_count": 1,
          "metadata": {}
        }
      ]
    },
    {
      "cell_type": "code",
      "execution_count": 1,
      "metadata": {
        "dotnet_interactive": {
          "language": "csharp"
        }
      },
      "source": [
        "using System;\n",
        "\n",
        "using LinqToTwitter;\n",
        "using LinqToTwitter.OAuth;"
      ],
      "outputs": []
    },
    {
      "cell_type": "code",
      "execution_count": 1,
      "metadata": {
        "dotnet_interactive": {
          "language": "csharp"
        }
      },
      "source": [
        "var auth = new SingleUserAuthorizer\n",
        "{\n",
        "    CredentialStore = new SingleUserInMemoryCredentialStore\n",
        "    {\n",
        "        ConsumerKey = Environment.GetEnvironmentVariable(OAuthKeys.TwitterConsumerKey),\n",
        "        ConsumerSecret = Environment.GetEnvironmentVariable(OAuthKeys.TwitterConsumerSecret),\n",
        "        AccessToken = Environment.GetEnvironmentVariable(OAuthKeys.TwitterAccessToken),\n",
        "        AccessTokenSecret = Environment.GetEnvironmentVariable(OAuthKeys.TwitterAccessTokenSecret)\n",
        "    }\n",
        "};\n",
        "\n",
        "await auth.AuthorizeAsync();\n",
        "var twitterCtx = new TwitterContext(auth);"
      ],
      "outputs": []
    },
    {
      "cell_type": "code",
      "execution_count": 1,
      "metadata": {
        "dotnet_interactive": {
          "language": "csharp"
        }
      },
      "source": [
        "string searchTerm = \"Twitter\";\n",
        "\n",
        "var query =\n",
        "    from search in twitterCtx.TwitterSearch\n",
        "\twhere search.Type == SearchType.RecentSearch &&\n",
        "          search.Query == searchTerm\n",
        "    select search;\n",
        "\n",
        "TwitterSearch searchResponse = await query.SingleOrDefaultAsync();\n",
        "\n",
        "for (int i=0; i < 5; i++)\n",
        "{\n",
        "    var tweet = searchResponse.Tweets[i];\n",
        "    Console.WriteLine(\n",
        "        $\"\\nID: {tweet.ID}\" +\n",
        "        $\"\\nTweet: {tweet.Text}\");        \n",
        "}"
      ],
      "outputs": [
        {
          "output_type": "execute_result",
          "data": {
            "text/plain": "\nID: 1555028730300583937\nTweet: Stetson Wright has had quite the week! He is coming off a win in Cheyenne and now has a round win in Lea County after this 88-point ride! https://t.co/JbdEauxRiL\r\n"
          },
          "execution_count": 1,
          "metadata": {}
        }
      ]
    }
  ],
  "metadata": {
    "kernelspec": {
      "display_name": ".NET (C#)",
      "language": "C#",
      "name": ".net-csharp"
    },
    "language_info": {
      "file_extension": ".cs",
      "mimetype": "text/x-csharp",
      "name": "C#",
      "pygments_lexer": "csharp",
      "version": "8.0"
    }
  },
  "nbformat": 4,
  "nbformat_minor": 4
}
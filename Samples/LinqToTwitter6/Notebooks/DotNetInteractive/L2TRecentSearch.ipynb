{
 "cells": [
  {
   "cell_type": "code",
   "execution_count": null,
   "metadata": {
    "dotnet_interactive": {
     "language": "csharp"
    },
    "vscode": {
     "languageId": "dotnet-interactive.csharp"
    }
   },
   "outputs": [
    {
     "data": {
      "text/html": [
       "<div><div></div><div></div><div><strong>Installed Packages</strong><ul><li><span>linqtotwitter, 6.15.0</span></li></ul></div></div>"
      ]
     },
     "metadata": {},
     "output_type": "display_data"
    }
   ],
   "source": [
    "#r \"nuget: linqtotwitter, 6.15.0\"\n"
   ]
  },
  {
   "cell_type": "code",
   "execution_count": null,
   "metadata": {
    "dotnet_interactive": {
     "language": "csharp"
    },
    "vscode": {
     "languageId": "dotnet-interactive.csharp"
    }
   },
   "outputs": [],
   "source": [
    "using System;\n",
    "\n",
    "using LinqToTwitter;\n",
    "using LinqToTwitter.OAuth;"
   ]
  },
  {
   "cell_type": "code",
   "execution_count": null,
   "metadata": {
    "dotnet_interactive": {
     "language": "csharp"
    },
    "vscode": {
     "languageId": "dotnet-interactive.csharp"
    }
   },
   "outputs": [],
   "source": [
    "var auth = new SingleUserAuthorizer\n",
    "{\n",
    "    CredentialStore = new SingleUserInMemoryCredentialStore\n",
    "    {\n",
    "        ConsumerKey = Environment.GetEnvironmentVariable(OAuthKeys.TwitterConsumerKey),\n",
    "        ConsumerSecret = Environment.GetEnvironmentVariable(OAuthKeys.TwitterConsumerSecret),\n",
    "        AccessToken = Environment.GetEnvironmentVariable(OAuthKeys.TwitterAccessToken),\n",
    "        AccessTokenSecret = Environment.GetEnvironmentVariable(OAuthKeys.TwitterAccessTokenSecret)\n",
    "    }\n",
    "};\n",
    "\n",
    "await auth.AuthorizeAsync();\n",
    "var twitterCtx = new TwitterContext(auth);"
   ]
  },
  {
   "cell_type": "code",
   "execution_count": null,
   "metadata": {
    "dotnet_interactive": {
     "language": "csharp"
    },
    "vscode": {
     "languageId": "dotnet-interactive.csharp"
    }
   },
   "outputs": [
    {
     "name": "stdout",
     "output_type": "stream",
     "text": [
      "\n",
      "ID: 1550700632197042176\n",
      "Tweet: 얘네 진자 존나 웃김 https://t.co/Sxvd5mCCF3\r\n",
      "\n",
      "ID: 1550700632193257472\n",
      "Tweet: ย้อนมาดูความรักปจบแพพ ห้ะๆๆ5555555 https://t.co/70PjXzQWp4\r\n",
      "\n",
      "ID: 1550700632193093632\n",
      "Tweet: RT @Alloooly1230: #عبدالعزيز_بن_فهد \n",
      "متبقي 4,840\n",
      "من يقفلها ويكسب اجرها\n",
      "\n",
      "يشهدالله ان امي ارملة كبيرة سن مريضه قلب وانسداد فالشريان\n",
      "ليس لها م…\r\n",
      "\n",
      "ID: 1550700632192925696\n",
      "Tweet: RT @negitaku: 『ARTISAN』代表に聞く今後の展開やブランドの未来\n",
      "\n",
      "新製品RMシリーズは最後の布製マウスパッド\n",
      "\n",
      "https://t.co/KyPkNtvEeE https://t.co/n23D65nMyA\r\n",
      "\n",
      "ID: 1550700632192888832\n",
      "Tweet: RT @kikerCG: 🇦🇹 Una multitud de austriacos reacciona ante la Agenda 2030\n",
      "\n",
      "\"¡No asistiremos en silencio a la caída de Austria y a este robo…\r\n"
     ]
    }
   ],
   "source": [
    "string searchTerm = \"Twitter\";\n",
    "\n",
    "var result =\n",
    "    (from search in twitterCtx.TwitterSearch\n",
    "      where search.Type == SearchType.RecentSearch &&\n",
    "            search.Query == searchTerm\n",
    "      select search)\n",
    "    .SingleOrDefaultAsync();\n",
    "\n",
    "TwitterSearch searchResponse = await result;\n",
    "\n",
    "for (int i=0; i < 5; i++)\n",
    "{\n",
    "    var tweet = searchResponse.Tweets[i];\n",
    "    Console.WriteLine(\n",
    "        $\"\\nID: {tweet.ID}\" +\n",
    "        $\"\\nTweet: {tweet.Text}\");        \n",
    "}"
   ]
  }
 ],
 "metadata": {
  "kernelspec": {
   "display_name": ".NET (C#)",
   "language": "C#",
   "name": ".net-csharp"
  },
  "language_info": {
   "name": "C#"
  }
 },
 "nbformat": 4,
 "nbformat_minor": 2
}
